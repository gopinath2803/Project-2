{
 "cells": [
  {
   "cell_type": "code",
   "execution_count": 7,
   "metadata": {},
   "outputs": [],
   "source": [
    "import numpy as np\n",
    "import pandas as pd\n",
    "import sklearn\n",
    "import seaborn as sns\n",
    "import matplotlib.pyplot as plt\n",
    "from sklearn.model_selection import train_test_split\n",
    "from sklearn import preprocessing\n",
    "from sklearn.ensemble import RandomForestRegressor\n",
    "from sklearn.pipeline import make_pipeline\n",
    "from sklearn.model_selection import GridSearchCV\n",
    "from sklearn.metrics import mean_squared_error, r2_score\n",
    "from sklearn.externals import joblib\n",
    "from sklearn.linear_model import LinearRegression\n",
    "from sklearn import linear_model,dummy,metrics"
   ]
  },
  {
   "cell_type": "code",
   "execution_count": 8,
   "metadata": {},
   "outputs": [
    {
     "data": {
      "text/html": [
       "<div>\n",
       "<style scoped>\n",
       "    .dataframe tbody tr th:only-of-type {\n",
       "        vertical-align: middle;\n",
       "    }\n",
       "\n",
       "    .dataframe tbody tr th {\n",
       "        vertical-align: top;\n",
       "    }\n",
       "\n",
       "    .dataframe thead th {\n",
       "        text-align: right;\n",
       "    }\n",
       "</style>\n",
       "<table border=\"1\" class=\"dataframe\">\n",
       "  <thead>\n",
       "    <tr style=\"text-align: right;\">\n",
       "      <th></th>\n",
       "      <th>age</th>\n",
       "      <th>sex</th>\n",
       "      <th>bmi</th>\n",
       "      <th>children</th>\n",
       "      <th>smoker</th>\n",
       "      <th>region</th>\n",
       "      <th>charges</th>\n",
       "      <th>insuranceclaim</th>\n",
       "    </tr>\n",
       "  </thead>\n",
       "  <tbody>\n",
       "    <tr>\n",
       "      <td>0</td>\n",
       "      <td>19</td>\n",
       "      <td>0</td>\n",
       "      <td>27.900</td>\n",
       "      <td>0</td>\n",
       "      <td>1</td>\n",
       "      <td>3</td>\n",
       "      <td>16884.92400</td>\n",
       "      <td>1</td>\n",
       "    </tr>\n",
       "    <tr>\n",
       "      <td>1</td>\n",
       "      <td>18</td>\n",
       "      <td>1</td>\n",
       "      <td>33.770</td>\n",
       "      <td>1</td>\n",
       "      <td>0</td>\n",
       "      <td>2</td>\n",
       "      <td>1725.55230</td>\n",
       "      <td>1</td>\n",
       "    </tr>\n",
       "    <tr>\n",
       "      <td>2</td>\n",
       "      <td>28</td>\n",
       "      <td>1</td>\n",
       "      <td>33.000</td>\n",
       "      <td>3</td>\n",
       "      <td>0</td>\n",
       "      <td>2</td>\n",
       "      <td>4449.46200</td>\n",
       "      <td>0</td>\n",
       "    </tr>\n",
       "    <tr>\n",
       "      <td>3</td>\n",
       "      <td>33</td>\n",
       "      <td>1</td>\n",
       "      <td>22.705</td>\n",
       "      <td>0</td>\n",
       "      <td>0</td>\n",
       "      <td>1</td>\n",
       "      <td>21984.47061</td>\n",
       "      <td>0</td>\n",
       "    </tr>\n",
       "    <tr>\n",
       "      <td>4</td>\n",
       "      <td>32</td>\n",
       "      <td>1</td>\n",
       "      <td>28.880</td>\n",
       "      <td>0</td>\n",
       "      <td>0</td>\n",
       "      <td>1</td>\n",
       "      <td>3866.85520</td>\n",
       "      <td>1</td>\n",
       "    </tr>\n",
       "    <tr>\n",
       "      <td>...</td>\n",
       "      <td>...</td>\n",
       "      <td>...</td>\n",
       "      <td>...</td>\n",
       "      <td>...</td>\n",
       "      <td>...</td>\n",
       "      <td>...</td>\n",
       "      <td>...</td>\n",
       "      <td>...</td>\n",
       "    </tr>\n",
       "    <tr>\n",
       "      <td>1333</td>\n",
       "      <td>50</td>\n",
       "      <td>1</td>\n",
       "      <td>30.970</td>\n",
       "      <td>3</td>\n",
       "      <td>0</td>\n",
       "      <td>1</td>\n",
       "      <td>10600.54830</td>\n",
       "      <td>0</td>\n",
       "    </tr>\n",
       "    <tr>\n",
       "      <td>1334</td>\n",
       "      <td>18</td>\n",
       "      <td>0</td>\n",
       "      <td>31.920</td>\n",
       "      <td>0</td>\n",
       "      <td>0</td>\n",
       "      <td>0</td>\n",
       "      <td>2205.98080</td>\n",
       "      <td>1</td>\n",
       "    </tr>\n",
       "    <tr>\n",
       "      <td>1335</td>\n",
       "      <td>18</td>\n",
       "      <td>0</td>\n",
       "      <td>36.850</td>\n",
       "      <td>0</td>\n",
       "      <td>0</td>\n",
       "      <td>2</td>\n",
       "      <td>1629.83350</td>\n",
       "      <td>1</td>\n",
       "    </tr>\n",
       "    <tr>\n",
       "      <td>1336</td>\n",
       "      <td>21</td>\n",
       "      <td>0</td>\n",
       "      <td>25.800</td>\n",
       "      <td>0</td>\n",
       "      <td>0</td>\n",
       "      <td>3</td>\n",
       "      <td>2007.94500</td>\n",
       "      <td>0</td>\n",
       "    </tr>\n",
       "    <tr>\n",
       "      <td>1337</td>\n",
       "      <td>61</td>\n",
       "      <td>0</td>\n",
       "      <td>29.070</td>\n",
       "      <td>0</td>\n",
       "      <td>1</td>\n",
       "      <td>1</td>\n",
       "      <td>29141.36030</td>\n",
       "      <td>1</td>\n",
       "    </tr>\n",
       "  </tbody>\n",
       "</table>\n",
       "<p>1338 rows × 8 columns</p>\n",
       "</div>"
      ],
      "text/plain": [
       "      age  sex     bmi  children  smoker  region      charges  insuranceclaim\n",
       "0      19    0  27.900         0       1       3  16884.92400               1\n",
       "1      18    1  33.770         1       0       2   1725.55230               1\n",
       "2      28    1  33.000         3       0       2   4449.46200               0\n",
       "3      33    1  22.705         0       0       1  21984.47061               0\n",
       "4      32    1  28.880         0       0       1   3866.85520               1\n",
       "...   ...  ...     ...       ...     ...     ...          ...             ...\n",
       "1333   50    1  30.970         3       0       1  10600.54830               0\n",
       "1334   18    0  31.920         0       0       0   2205.98080               1\n",
       "1335   18    0  36.850         0       0       2   1629.83350               1\n",
       "1336   21    0  25.800         0       0       3   2007.94500               0\n",
       "1337   61    0  29.070         0       1       1  29141.36030               1\n",
       "\n",
       "[1338 rows x 8 columns]"
      ]
     },
     "execution_count": 8,
     "metadata": {},
     "output_type": "execute_result"
    }
   ],
   "source": [
    "ds = pd.read_csv('SBI_Life_insurance.csv')\n",
    "ds"
   ]
  },
  {
   "cell_type": "code",
   "execution_count": 10,
   "metadata": {},
   "outputs": [
    {
     "data": {
      "text/html": [
       "<div>\n",
       "<style scoped>\n",
       "    .dataframe tbody tr th:only-of-type {\n",
       "        vertical-align: middle;\n",
       "    }\n",
       "\n",
       "    .dataframe tbody tr th {\n",
       "        vertical-align: top;\n",
       "    }\n",
       "\n",
       "    .dataframe thead th {\n",
       "        text-align: right;\n",
       "    }\n",
       "</style>\n",
       "<table border=\"1\" class=\"dataframe\">\n",
       "  <thead>\n",
       "    <tr style=\"text-align: right;\">\n",
       "      <th></th>\n",
       "      <th>age</th>\n",
       "      <th>sex</th>\n",
       "      <th>bmi</th>\n",
       "      <th>children</th>\n",
       "      <th>smoker</th>\n",
       "      <th>region</th>\n",
       "      <th>charges</th>\n",
       "      <th>insuranceclaim</th>\n",
       "    </tr>\n",
       "  </thead>\n",
       "  <tbody>\n",
       "    <tr>\n",
       "      <td>0</td>\n",
       "      <td>19</td>\n",
       "      <td>0</td>\n",
       "      <td>27.900</td>\n",
       "      <td>0</td>\n",
       "      <td>1</td>\n",
       "      <td>3</td>\n",
       "      <td>16884.92400</td>\n",
       "      <td>1</td>\n",
       "    </tr>\n",
       "    <tr>\n",
       "      <td>1</td>\n",
       "      <td>18</td>\n",
       "      <td>1</td>\n",
       "      <td>33.770</td>\n",
       "      <td>1</td>\n",
       "      <td>0</td>\n",
       "      <td>2</td>\n",
       "      <td>1725.55230</td>\n",
       "      <td>1</td>\n",
       "    </tr>\n",
       "    <tr>\n",
       "      <td>2</td>\n",
       "      <td>28</td>\n",
       "      <td>1</td>\n",
       "      <td>33.000</td>\n",
       "      <td>3</td>\n",
       "      <td>0</td>\n",
       "      <td>2</td>\n",
       "      <td>4449.46200</td>\n",
       "      <td>0</td>\n",
       "    </tr>\n",
       "    <tr>\n",
       "      <td>3</td>\n",
       "      <td>33</td>\n",
       "      <td>1</td>\n",
       "      <td>22.705</td>\n",
       "      <td>0</td>\n",
       "      <td>0</td>\n",
       "      <td>1</td>\n",
       "      <td>21984.47061</td>\n",
       "      <td>0</td>\n",
       "    </tr>\n",
       "    <tr>\n",
       "      <td>4</td>\n",
       "      <td>32</td>\n",
       "      <td>1</td>\n",
       "      <td>28.880</td>\n",
       "      <td>0</td>\n",
       "      <td>0</td>\n",
       "      <td>1</td>\n",
       "      <td>3866.85520</td>\n",
       "      <td>1</td>\n",
       "    </tr>\n",
       "    <tr>\n",
       "      <td>5</td>\n",
       "      <td>31</td>\n",
       "      <td>0</td>\n",
       "      <td>25.740</td>\n",
       "      <td>0</td>\n",
       "      <td>0</td>\n",
       "      <td>2</td>\n",
       "      <td>3756.62160</td>\n",
       "      <td>0</td>\n",
       "    </tr>\n",
       "    <tr>\n",
       "      <td>6</td>\n",
       "      <td>46</td>\n",
       "      <td>0</td>\n",
       "      <td>33.440</td>\n",
       "      <td>1</td>\n",
       "      <td>0</td>\n",
       "      <td>2</td>\n",
       "      <td>8240.58960</td>\n",
       "      <td>1</td>\n",
       "    </tr>\n",
       "    <tr>\n",
       "      <td>7</td>\n",
       "      <td>37</td>\n",
       "      <td>0</td>\n",
       "      <td>27.740</td>\n",
       "      <td>3</td>\n",
       "      <td>0</td>\n",
       "      <td>1</td>\n",
       "      <td>7281.50560</td>\n",
       "      <td>0</td>\n",
       "    </tr>\n",
       "    <tr>\n",
       "      <td>8</td>\n",
       "      <td>37</td>\n",
       "      <td>1</td>\n",
       "      <td>29.830</td>\n",
       "      <td>2</td>\n",
       "      <td>0</td>\n",
       "      <td>0</td>\n",
       "      <td>6406.41070</td>\n",
       "      <td>0</td>\n",
       "    </tr>\n",
       "    <tr>\n",
       "      <td>9</td>\n",
       "      <td>60</td>\n",
       "      <td>0</td>\n",
       "      <td>25.840</td>\n",
       "      <td>0</td>\n",
       "      <td>0</td>\n",
       "      <td>1</td>\n",
       "      <td>28923.13692</td>\n",
       "      <td>0</td>\n",
       "    </tr>\n",
       "    <tr>\n",
       "      <td>10</td>\n",
       "      <td>25</td>\n",
       "      <td>1</td>\n",
       "      <td>26.220</td>\n",
       "      <td>0</td>\n",
       "      <td>0</td>\n",
       "      <td>0</td>\n",
       "      <td>2721.32080</td>\n",
       "      <td>1</td>\n",
       "    </tr>\n",
       "    <tr>\n",
       "      <td>11</td>\n",
       "      <td>62</td>\n",
       "      <td>0</td>\n",
       "      <td>26.290</td>\n",
       "      <td>0</td>\n",
       "      <td>1</td>\n",
       "      <td>2</td>\n",
       "      <td>27808.72510</td>\n",
       "      <td>1</td>\n",
       "    </tr>\n",
       "    <tr>\n",
       "      <td>12</td>\n",
       "      <td>23</td>\n",
       "      <td>1</td>\n",
       "      <td>34.400</td>\n",
       "      <td>0</td>\n",
       "      <td>0</td>\n",
       "      <td>3</td>\n",
       "      <td>1826.84300</td>\n",
       "      <td>1</td>\n",
       "    </tr>\n",
       "    <tr>\n",
       "      <td>13</td>\n",
       "      <td>56</td>\n",
       "      <td>0</td>\n",
       "      <td>39.820</td>\n",
       "      <td>0</td>\n",
       "      <td>0</td>\n",
       "      <td>2</td>\n",
       "      <td>11090.71780</td>\n",
       "      <td>1</td>\n",
       "    </tr>\n",
       "    <tr>\n",
       "      <td>14</td>\n",
       "      <td>27</td>\n",
       "      <td>1</td>\n",
       "      <td>42.130</td>\n",
       "      <td>0</td>\n",
       "      <td>1</td>\n",
       "      <td>2</td>\n",
       "      <td>39611.75770</td>\n",
       "      <td>1</td>\n",
       "    </tr>\n",
       "    <tr>\n",
       "      <td>15</td>\n",
       "      <td>19</td>\n",
       "      <td>1</td>\n",
       "      <td>24.600</td>\n",
       "      <td>1</td>\n",
       "      <td>0</td>\n",
       "      <td>3</td>\n",
       "      <td>1837.23700</td>\n",
       "      <td>0</td>\n",
       "    </tr>\n",
       "    <tr>\n",
       "      <td>16</td>\n",
       "      <td>52</td>\n",
       "      <td>0</td>\n",
       "      <td>30.780</td>\n",
       "      <td>1</td>\n",
       "      <td>0</td>\n",
       "      <td>0</td>\n",
       "      <td>10797.33620</td>\n",
       "      <td>1</td>\n",
       "    </tr>\n",
       "    <tr>\n",
       "      <td>17</td>\n",
       "      <td>23</td>\n",
       "      <td>1</td>\n",
       "      <td>23.845</td>\n",
       "      <td>0</td>\n",
       "      <td>0</td>\n",
       "      <td>0</td>\n",
       "      <td>2395.17155</td>\n",
       "      <td>0</td>\n",
       "    </tr>\n",
       "    <tr>\n",
       "      <td>18</td>\n",
       "      <td>56</td>\n",
       "      <td>1</td>\n",
       "      <td>40.300</td>\n",
       "      <td>0</td>\n",
       "      <td>0</td>\n",
       "      <td>3</td>\n",
       "      <td>10602.38500</td>\n",
       "      <td>1</td>\n",
       "    </tr>\n",
       "    <tr>\n",
       "      <td>19</td>\n",
       "      <td>30</td>\n",
       "      <td>1</td>\n",
       "      <td>35.300</td>\n",
       "      <td>0</td>\n",
       "      <td>1</td>\n",
       "      <td>3</td>\n",
       "      <td>36837.46700</td>\n",
       "      <td>1</td>\n",
       "    </tr>\n",
       "  </tbody>\n",
       "</table>\n",
       "</div>"
      ],
      "text/plain": [
       "    age  sex     bmi  children  smoker  region      charges  insuranceclaim\n",
       "0    19    0  27.900         0       1       3  16884.92400               1\n",
       "1    18    1  33.770         1       0       2   1725.55230               1\n",
       "2    28    1  33.000         3       0       2   4449.46200               0\n",
       "3    33    1  22.705         0       0       1  21984.47061               0\n",
       "4    32    1  28.880         0       0       1   3866.85520               1\n",
       "5    31    0  25.740         0       0       2   3756.62160               0\n",
       "6    46    0  33.440         1       0       2   8240.58960               1\n",
       "7    37    0  27.740         3       0       1   7281.50560               0\n",
       "8    37    1  29.830         2       0       0   6406.41070               0\n",
       "9    60    0  25.840         0       0       1  28923.13692               0\n",
       "10   25    1  26.220         0       0       0   2721.32080               1\n",
       "11   62    0  26.290         0       1       2  27808.72510               1\n",
       "12   23    1  34.400         0       0       3   1826.84300               1\n",
       "13   56    0  39.820         0       0       2  11090.71780               1\n",
       "14   27    1  42.130         0       1       2  39611.75770               1\n",
       "15   19    1  24.600         1       0       3   1837.23700               0\n",
       "16   52    0  30.780         1       0       0  10797.33620               1\n",
       "17   23    1  23.845         0       0       0   2395.17155               0\n",
       "18   56    1  40.300         0       0       3  10602.38500               1\n",
       "19   30    1  35.300         0       1       3  36837.46700               1"
      ]
     },
     "execution_count": 10,
     "metadata": {},
     "output_type": "execute_result"
    }
   ],
   "source": [
    "ds.head(20)"
   ]
  },
  {
   "cell_type": "code",
   "execution_count": 11,
   "metadata": {},
   "outputs": [
    {
     "data": {
      "text/plain": [
       "(1338, 8)"
      ]
     },
     "execution_count": 11,
     "metadata": {},
     "output_type": "execute_result"
    }
   ],
   "source": [
    "ds.shape"
   ]
  },
  {
   "cell_type": "code",
   "execution_count": 12,
   "metadata": {},
   "outputs": [
    {
     "data": {
      "text/html": [
       "<div>\n",
       "<style scoped>\n",
       "    .dataframe tbody tr th:only-of-type {\n",
       "        vertical-align: middle;\n",
       "    }\n",
       "\n",
       "    .dataframe tbody tr th {\n",
       "        vertical-align: top;\n",
       "    }\n",
       "\n",
       "    .dataframe thead th {\n",
       "        text-align: right;\n",
       "    }\n",
       "</style>\n",
       "<table border=\"1\" class=\"dataframe\">\n",
       "  <thead>\n",
       "    <tr style=\"text-align: right;\">\n",
       "      <th></th>\n",
       "      <th>age</th>\n",
       "      <th>sex</th>\n",
       "      <th>bmi</th>\n",
       "      <th>children</th>\n",
       "      <th>smoker</th>\n",
       "      <th>region</th>\n",
       "      <th>charges</th>\n",
       "      <th>insuranceclaim</th>\n",
       "    </tr>\n",
       "  </thead>\n",
       "  <tbody>\n",
       "    <tr>\n",
       "      <td>count</td>\n",
       "      <td>1338.000000</td>\n",
       "      <td>1338.000000</td>\n",
       "      <td>1338.000000</td>\n",
       "      <td>1338.000000</td>\n",
       "      <td>1338.000000</td>\n",
       "      <td>1338.000000</td>\n",
       "      <td>1338.000000</td>\n",
       "      <td>1338.000000</td>\n",
       "    </tr>\n",
       "    <tr>\n",
       "      <td>mean</td>\n",
       "      <td>39.207025</td>\n",
       "      <td>0.505232</td>\n",
       "      <td>30.663397</td>\n",
       "      <td>1.094918</td>\n",
       "      <td>0.204783</td>\n",
       "      <td>1.515695</td>\n",
       "      <td>13270.422265</td>\n",
       "      <td>0.585202</td>\n",
       "    </tr>\n",
       "    <tr>\n",
       "      <td>std</td>\n",
       "      <td>14.049960</td>\n",
       "      <td>0.500160</td>\n",
       "      <td>6.098187</td>\n",
       "      <td>1.205493</td>\n",
       "      <td>0.403694</td>\n",
       "      <td>1.104885</td>\n",
       "      <td>12110.011237</td>\n",
       "      <td>0.492871</td>\n",
       "    </tr>\n",
       "    <tr>\n",
       "      <td>min</td>\n",
       "      <td>18.000000</td>\n",
       "      <td>0.000000</td>\n",
       "      <td>15.960000</td>\n",
       "      <td>0.000000</td>\n",
       "      <td>0.000000</td>\n",
       "      <td>0.000000</td>\n",
       "      <td>1121.873900</td>\n",
       "      <td>0.000000</td>\n",
       "    </tr>\n",
       "    <tr>\n",
       "      <td>25%</td>\n",
       "      <td>27.000000</td>\n",
       "      <td>0.000000</td>\n",
       "      <td>26.296250</td>\n",
       "      <td>0.000000</td>\n",
       "      <td>0.000000</td>\n",
       "      <td>1.000000</td>\n",
       "      <td>4740.287150</td>\n",
       "      <td>0.000000</td>\n",
       "    </tr>\n",
       "    <tr>\n",
       "      <td>50%</td>\n",
       "      <td>39.000000</td>\n",
       "      <td>1.000000</td>\n",
       "      <td>30.400000</td>\n",
       "      <td>1.000000</td>\n",
       "      <td>0.000000</td>\n",
       "      <td>2.000000</td>\n",
       "      <td>9382.033000</td>\n",
       "      <td>1.000000</td>\n",
       "    </tr>\n",
       "    <tr>\n",
       "      <td>75%</td>\n",
       "      <td>51.000000</td>\n",
       "      <td>1.000000</td>\n",
       "      <td>34.693750</td>\n",
       "      <td>2.000000</td>\n",
       "      <td>0.000000</td>\n",
       "      <td>2.000000</td>\n",
       "      <td>16639.912515</td>\n",
       "      <td>1.000000</td>\n",
       "    </tr>\n",
       "    <tr>\n",
       "      <td>max</td>\n",
       "      <td>64.000000</td>\n",
       "      <td>1.000000</td>\n",
       "      <td>53.130000</td>\n",
       "      <td>5.000000</td>\n",
       "      <td>1.000000</td>\n",
       "      <td>3.000000</td>\n",
       "      <td>63770.428010</td>\n",
       "      <td>1.000000</td>\n",
       "    </tr>\n",
       "  </tbody>\n",
       "</table>\n",
       "</div>"
      ],
      "text/plain": [
       "               age          sex          bmi     children       smoker  \\\n",
       "count  1338.000000  1338.000000  1338.000000  1338.000000  1338.000000   \n",
       "mean     39.207025     0.505232    30.663397     1.094918     0.204783   \n",
       "std      14.049960     0.500160     6.098187     1.205493     0.403694   \n",
       "min      18.000000     0.000000    15.960000     0.000000     0.000000   \n",
       "25%      27.000000     0.000000    26.296250     0.000000     0.000000   \n",
       "50%      39.000000     1.000000    30.400000     1.000000     0.000000   \n",
       "75%      51.000000     1.000000    34.693750     2.000000     0.000000   \n",
       "max      64.000000     1.000000    53.130000     5.000000     1.000000   \n",
       "\n",
       "            region       charges  insuranceclaim  \n",
       "count  1338.000000   1338.000000     1338.000000  \n",
       "mean      1.515695  13270.422265        0.585202  \n",
       "std       1.104885  12110.011237        0.492871  \n",
       "min       0.000000   1121.873900        0.000000  \n",
       "25%       1.000000   4740.287150        0.000000  \n",
       "50%       2.000000   9382.033000        1.000000  \n",
       "75%       2.000000  16639.912515        1.000000  \n",
       "max       3.000000  63770.428010        1.000000  "
      ]
     },
     "execution_count": 12,
     "metadata": {},
     "output_type": "execute_result"
    }
   ],
   "source": [
    "ds.describe()"
   ]
  },
  {
   "cell_type": "code",
   "execution_count": 13,
   "metadata": {},
   "outputs": [],
   "source": [
    "y = ds.insuranceclaim\n",
    "x = ds.drop('insuranceclaim', axis=1)"
   ]
  },
  {
   "cell_type": "code",
   "execution_count": 14,
   "metadata": {},
   "outputs": [],
   "source": [
    "x_train, x_test, y_train, y_test = train_test_split(x, y,test_size=0.3,random_state=111,stratify=y)"
   ]
  },
  {
   "cell_type": "code",
   "execution_count": 15,
   "metadata": {},
   "outputs": [
    {
     "data": {
      "text/plain": [
       "array([[-0.94338187, -0.97467943, -0.12354801, ..., -0.49966611,\n",
       "         0.45774833, -0.82045141],\n",
       "       [-0.66068444, -0.97467943,  1.38371744, ...,  2.00133645,\n",
       "         0.45774833,  2.35580033],\n",
       "       [-0.66068444, -0.97467943, -1.28330045, ..., -0.49966611,\n",
       "        -1.37716576, -0.70821089],\n",
       "       ...,\n",
       "       [ 1.74224373, -0.97467943,  0.37914895, ..., -0.49966611,\n",
       "        -0.45970871,  0.13562721],\n",
       "       [ 1.31819759, -0.97467943,  0.9594379 , ..., -0.49966611,\n",
       "        -0.45970871, -0.07224772],\n",
       "       [ 1.17684887,  1.02597835,  0.18516901, ...,  2.00133645,\n",
       "         0.45774833,  2.59960164]])"
      ]
     },
     "execution_count": 15,
     "metadata": {},
     "output_type": "execute_result"
    }
   ],
   "source": [
    "# Standardization\n",
    "x_train_scaled = preprocessing.scale(x_train)\n",
    "x_train_scaled"
   ]
  },
  {
   "cell_type": "code",
   "execution_count": 16,
   "metadata": {},
   "outputs": [
    {
     "data": {
      "text/plain": [
       "array([ 1.55621005e-16, -1.13869028e-17, -8.91974054e-17,  6.45257826e-17,\n",
       "       -2.65694399e-17,  1.13869028e-17, -1.29051565e-16])"
      ]
     },
     "execution_count": 16,
     "metadata": {},
     "output_type": "execute_result"
    }
   ],
   "source": [
    "x_train_scaled.mean(axis=0)"
   ]
  },
  {
   "cell_type": "code",
   "execution_count": 17,
   "metadata": {},
   "outputs": [
    {
     "data": {
      "text/plain": [
       "array([1., 1., 1., 1., 1., 1., 1.])"
      ]
     },
     "execution_count": 17,
     "metadata": {},
     "output_type": "execute_result"
    }
   ],
   "source": [
    "x_train_scaled.std(axis=0)"
   ]
  },
  {
   "cell_type": "code",
   "execution_count": 18,
   "metadata": {},
   "outputs": [],
   "source": [
    "#Cross validation Pipeline:\n",
    "scaler = preprocessing.StandardScaler().fit(x_train)"
   ]
  },
  {
   "cell_type": "code",
   "execution_count": 19,
   "metadata": {},
   "outputs": [],
   "source": [
    "x_train_scaled = scaler.transform(x_train)"
   ]
  },
  {
   "cell_type": "code",
   "execution_count": 20,
   "metadata": {},
   "outputs": [
    {
     "data": {
      "text/plain": [
       "array([ 1.55621005e-16, -1.13869028e-17, -8.91974054e-17,  6.45257826e-17,\n",
       "       -2.65694399e-17,  1.13869028e-17, -1.29051565e-16])"
      ]
     },
     "execution_count": 20,
     "metadata": {},
     "output_type": "execute_result"
    }
   ],
   "source": [
    "x_train_scaled.mean(axis=0)"
   ]
  },
  {
   "cell_type": "code",
   "execution_count": 21,
   "metadata": {},
   "outputs": [
    {
     "data": {
      "text/plain": [
       "array([1., 1., 1., 1., 1., 1., 1.])"
      ]
     },
     "execution_count": 21,
     "metadata": {},
     "output_type": "execute_result"
    }
   ],
   "source": [
    "x_train_scaled.std(axis=0)"
   ]
  },
  {
   "cell_type": "code",
   "execution_count": 23,
   "metadata": {},
   "outputs": [
    {
     "data": {
      "text/plain": [
       "array([-0.03322975,  0.12020791, -0.00273302,  0.02625004,  0.04159564,\n",
       "        0.04466444,  0.05088865])"
      ]
     },
     "execution_count": 23,
     "metadata": {},
     "output_type": "execute_result"
    }
   ],
   "source": [
    "x_test_scaled = scaler.transform(x_test)\n",
    "x_test_scaled.mean(axis=0)"
   ]
  },
  {
   "cell_type": "code",
   "execution_count": 24,
   "metadata": {},
   "outputs": [
    {
     "data": {
      "text/plain": [
       "array([0.97475912, 0.99584968, 1.02104255, 1.01942911, 1.0299188 ,\n",
       "       1.0429598 , 1.07778593])"
      ]
     },
     "execution_count": 24,
     "metadata": {},
     "output_type": "execute_result"
    }
   ],
   "source": [
    "x_test_scaled.std(axis=0)"
   ]
  },
  {
   "cell_type": "code",
   "execution_count": 25,
   "metadata": {},
   "outputs": [],
   "source": [
    "pipeline = make_pipeline(preprocessing.StandardScaler(),RandomForestRegressor(n_estimators=110))"
   ]
  },
  {
   "cell_type": "code",
   "execution_count": 26,
   "metadata": {},
   "outputs": [
    {
     "data": {
      "text/plain": [
       "{'memory': None,\n",
       " 'steps': [('standardscaler',\n",
       "   StandardScaler(copy=True, with_mean=True, with_std=True)),\n",
       "  ('randomforestregressor',\n",
       "   RandomForestRegressor(bootstrap=True, criterion='mse', max_depth=None,\n",
       "                         max_features='auto', max_leaf_nodes=None,\n",
       "                         min_impurity_decrease=0.0, min_impurity_split=None,\n",
       "                         min_samples_leaf=1, min_samples_split=2,\n",
       "                         min_weight_fraction_leaf=0.0, n_estimators=110,\n",
       "                         n_jobs=None, oob_score=False, random_state=None,\n",
       "                         verbose=0, warm_start=False))],\n",
       " 'verbose': False,\n",
       " 'standardscaler': StandardScaler(copy=True, with_mean=True, with_std=True),\n",
       " 'randomforestregressor': RandomForestRegressor(bootstrap=True, criterion='mse', max_depth=None,\n",
       "                       max_features='auto', max_leaf_nodes=None,\n",
       "                       min_impurity_decrease=0.0, min_impurity_split=None,\n",
       "                       min_samples_leaf=1, min_samples_split=2,\n",
       "                       min_weight_fraction_leaf=0.0, n_estimators=110,\n",
       "                       n_jobs=None, oob_score=False, random_state=None,\n",
       "                       verbose=0, warm_start=False),\n",
       " 'standardscaler__copy': True,\n",
       " 'standardscaler__with_mean': True,\n",
       " 'standardscaler__with_std': True,\n",
       " 'randomforestregressor__bootstrap': True,\n",
       " 'randomforestregressor__criterion': 'mse',\n",
       " 'randomforestregressor__max_depth': None,\n",
       " 'randomforestregressor__max_features': 'auto',\n",
       " 'randomforestregressor__max_leaf_nodes': None,\n",
       " 'randomforestregressor__min_impurity_decrease': 0.0,\n",
       " 'randomforestregressor__min_impurity_split': None,\n",
       " 'randomforestregressor__min_samples_leaf': 1,\n",
       " 'randomforestregressor__min_samples_split': 2,\n",
       " 'randomforestregressor__min_weight_fraction_leaf': 0.0,\n",
       " 'randomforestregressor__n_estimators': 110,\n",
       " 'randomforestregressor__n_jobs': None,\n",
       " 'randomforestregressor__oob_score': False,\n",
       " 'randomforestregressor__random_state': None,\n",
       " 'randomforestregressor__verbose': 0,\n",
       " 'randomforestregressor__warm_start': False}"
      ]
     },
     "execution_count": 26,
     "metadata": {},
     "output_type": "execute_result"
    }
   ],
   "source": [
    "# Hyperparameter\n",
    "pipeline.get_params()"
   ]
  },
  {
   "cell_type": "code",
   "execution_count": 27,
   "metadata": {},
   "outputs": [],
   "source": [
    "hyperparameters = { 'randomforestregressor__max_features' : ['auto', 'sqrt', 'log2'],'randomforestregressor__max_depth': [None,4,2,1]}"
   ]
  },
  {
   "cell_type": "code",
   "execution_count": 33,
   "metadata": {},
   "outputs": [
    {
     "data": {
      "text/plain": [
       "GridSearchCV(cv=10, error_score='raise-deprecating',\n",
       "             estimator=Pipeline(memory=None,\n",
       "                                steps=[('standardscaler',\n",
       "                                        StandardScaler(copy=True,\n",
       "                                                       with_mean=True,\n",
       "                                                       with_std=True)),\n",
       "                                       ('randomforestregressor',\n",
       "                                        RandomForestRegressor(bootstrap=True,\n",
       "                                                              criterion='mse',\n",
       "                                                              max_depth=None,\n",
       "                                                              max_features='auto',\n",
       "                                                              max_leaf_nodes=None,\n",
       "                                                              min_impurity_decrease=0.0,\n",
       "                                                              min_impurity_split=None,\n",
       "                                                              min_...\n",
       "                                                              min_weight_fraction_leaf=0.0,\n",
       "                                                              n_estimators=110,\n",
       "                                                              n_jobs=None,\n",
       "                                                              oob_score=False,\n",
       "                                                              random_state=None,\n",
       "                                                              verbose=0,\n",
       "                                                              warm_start=False))],\n",
       "                                verbose=False),\n",
       "             iid='warn', n_jobs=None,\n",
       "             param_grid={'randomforestregressor__max_depth': [None, 4, 2, 1],\n",
       "                         'randomforestregressor__max_features': ['auto', 'sqrt',\n",
       "                                                                 'log2']},\n",
       "             pre_dispatch='2*n_jobs', refit=True, return_train_score=False,\n",
       "             scoring=None, verbose=0)"
      ]
     },
     "execution_count": 33,
     "metadata": {},
     "output_type": "execute_result"
    }
   ],
   "source": [
    "# cross-validation\n",
    "r= GridSearchCV(pipeline,hyperparameters, cv=10)\n",
    "r.fit(x_train, y_train)"
   ]
  },
  {
   "cell_type": "code",
   "execution_count": 36,
   "metadata": {},
   "outputs": [
    {
     "data": {
      "text/plain": [
       "{'randomforestregressor__max_depth': None,\n",
       " 'randomforestregressor__max_features': 'auto'}"
      ]
     },
     "execution_count": 36,
     "metadata": {},
     "output_type": "execute_result"
    }
   ],
   "source": [
    "r.best_params_"
   ]
  },
  {
   "cell_type": "code",
   "execution_count": 37,
   "metadata": {},
   "outputs": [
    {
     "data": {
      "text/plain": [
       "True"
      ]
     },
     "execution_count": 37,
     "metadata": {},
     "output_type": "execute_result"
    }
   ],
   "source": [
    "# confirming Model be Retained\n",
    "r.refit"
   ]
  },
  {
   "cell_type": "code",
   "execution_count": 38,
   "metadata": {},
   "outputs": [],
   "source": [
    "# start predicting the data \n",
    "y_pred = r.predict(x_test)"
   ]
  },
  {
   "cell_type": "code",
   "execution_count": 39,
   "metadata": {},
   "outputs": [
    {
     "data": {
      "text/plain": [
       "0.9628429078189673"
      ]
     },
     "execution_count": 39,
     "metadata": {},
     "output_type": "execute_result"
    }
   ],
   "source": [
    "#Apply metrics on the completed Model\n",
    "r2_score(y_test, y_pred)"
   ]
  },
  {
   "cell_type": "code",
   "execution_count": 40,
   "metadata": {},
   "outputs": [
    {
     "data": {
      "text/plain": [
       "0.009023477653057029"
      ]
     },
     "execution_count": 40,
     "metadata": {},
     "output_type": "execute_result"
    }
   ],
   "source": [
    "mean_squared_error(y_test, y_pred)"
   ]
  },
  {
   "cell_type": "code",
   "execution_count": 41,
   "metadata": {},
   "outputs": [
    {
     "data": {
      "text/plain": [
       "['rf_regressor.pkl']"
      ]
     },
     "execution_count": 41,
     "metadata": {},
     "output_type": "execute_result"
    }
   ],
   "source": [
    "# To save the model\n",
    "joblib.dump(r, 'rf_regressor.pkl')"
   ]
  },
  {
   "cell_type": "code",
   "execution_count": 42,
   "metadata": {},
   "outputs": [],
   "source": [
    "# To load the model from pickle file\n",
    "r1 = joblib.load('rf_regressor.pkl')"
   ]
  },
  {
   "cell_type": "code",
   "execution_count": 44,
   "metadata": {},
   "outputs": [
    {
     "data": {
      "text/plain": [
       "array([0.        , 0.96363636, 1.        , 0.95454545, 0.        ,\n",
       "       0.05454545, 1.        , 1.        , 0.        , 0.00909091,\n",
       "       1.        , 0.        , 0.02727273, 0.92727273, 0.        ,\n",
       "       0.06363636, 0.        , 0.98181818, 1.        , 0.02727273,\n",
       "       0.        , 1.        , 1.        , 0.        , 0.        ,\n",
       "       0.        , 1.        , 0.68181818, 0.95454545, 0.00909091,\n",
       "       1.        , 0.26363636, 0.        , 0.98181818, 1.        ,\n",
       "       0.02727273, 1.        , 1.        , 0.68181818, 0.93636364,\n",
       "       0.9       , 1.        , 1.        , 1.        , 1.        ,\n",
       "       0.09090909, 0.95454545, 0.        , 0.4       , 0.        ,\n",
       "       0.86363636, 1.        , 0.        , 1.        , 0.99090909,\n",
       "       1.        , 0.92727273, 0.50909091, 0.05454545, 0.13636364,\n",
       "       0.        , 0.97272727, 0.4       , 0.78181818, 0.98181818,\n",
       "       0.06363636, 0.07272727, 0.        , 0.06363636, 1.        ,\n",
       "       0.92727273, 0.00909091, 0.        , 1.        , 1.        ,\n",
       "       1.        , 0.91818182, 1.        , 1.        , 1.        ,\n",
       "       0.02727273, 0.70909091, 1.        , 0.95454545, 1.        ,\n",
       "       1.        , 0.        , 0.        , 1.        , 0.91818182,\n",
       "       1.        , 1.        , 0.        , 1.        , 0.95454545,\n",
       "       1.        , 0.        , 1.        , 0.06363636, 0.        ,\n",
       "       1.        , 0.99090909, 0.00909091, 1.        , 1.        ,\n",
       "       0.        , 0.85454545, 1.        , 1.        , 0.02727273,\n",
       "       1.        , 0.96363636, 0.97272727, 0.        , 0.00909091,\n",
       "       1.        , 1.        , 0.18181818, 1.        , 0.99090909,\n",
       "       1.        , 0.        , 0.        , 1.        , 1.        ,\n",
       "       0.10909091, 1.        , 1.        , 1.        , 1.        ,\n",
       "       0.        , 0.47272727, 1.        , 1.        , 0.76363636,\n",
       "       0.9       , 0.        , 0.01818182, 1.        , 0.02727273,\n",
       "       0.17272727, 1.        , 0.        , 1.        , 1.        ,\n",
       "       0.        , 1.        , 1.        , 1.        , 0.        ,\n",
       "       0.97272727, 0.        , 0.        , 0.43636364, 0.        ,\n",
       "       1.        , 0.        , 0.97272727, 1.        , 0.        ,\n",
       "       1.        , 1.        , 0.        , 0.        , 0.07272727,\n",
       "       0.09090909, 0.00909091, 1.        , 1.        , 1.        ,\n",
       "       0.        , 0.02727273, 0.90909091, 0.67272727, 0.12727273,\n",
       "       0.05454545, 0.        , 0.        , 0.        , 0.06363636,\n",
       "       1.        , 0.00909091, 0.        , 1.        , 0.83636364,\n",
       "       0.00909091, 0.05454545, 0.95454545, 0.00909091, 0.9       ,\n",
       "       1.        , 0.02727273, 1.        , 0.1       , 0.04545455,\n",
       "       0.70909091, 0.        , 1.        , 0.94545455, 0.        ,\n",
       "       1.        , 0.07272727, 0.        , 1.        , 1.        ,\n",
       "       1.        , 1.        , 1.        , 0.88181818, 0.01818182,\n",
       "       1.        , 1.        , 1.        , 0.89090909, 1.        ,\n",
       "       0.01818182, 0.27272727, 0.92727273, 1.        , 1.        ,\n",
       "       0.05454545, 1.        , 0.11818182, 0.98181818, 0.        ,\n",
       "       0.        , 0.00909091, 0.88181818, 1.        , 0.        ,\n",
       "       0.        , 0.96363636, 0.12727273, 0.17272727, 0.92727273,\n",
       "       1.        , 0.94545455, 1.        , 1.        , 1.        ,\n",
       "       1.        , 1.        , 0.13636364, 1.        , 0.02727273,\n",
       "       0.87272727, 0.98181818, 0.        , 0.90909091, 0.97272727,\n",
       "       1.        , 0.98181818, 1.        , 0.00909091, 1.        ,\n",
       "       1.        , 1.        , 1.        , 0.98181818, 1.        ,\n",
       "       1.        , 1.        , 1.        , 0.        , 1.        ,\n",
       "       0.41818182, 1.        , 0.36363636, 0.93636364, 1.        ,\n",
       "       0.17272727, 0.03636364, 1.        , 0.        , 0.        ,\n",
       "       1.        , 1.        , 1.        , 0.93636364, 0.12727273,\n",
       "       1.        , 0.        , 0.        , 0.        , 1.        ,\n",
       "       1.        , 1.        , 1.        , 0.        , 1.        ,\n",
       "       0.        , 1.        , 0.88181818, 0.92727273, 0.        ,\n",
       "       0.08181818, 0.03636364, 1.        , 1.        , 1.        ,\n",
       "       0.00909091, 1.        , 0.        , 1.        , 0.98181818,\n",
       "       0.99090909, 0.        , 1.        , 0.        , 0.        ,\n",
       "       0.96363636, 1.        , 1.        , 0.99090909, 0.97272727,\n",
       "       0.        , 1.        , 1.        , 0.        , 0.92727273,\n",
       "       0.00909091, 0.06363636, 1.        , 0.        , 0.94545455,\n",
       "       0.93636364, 1.        , 0.        , 0.        , 0.        ,\n",
       "       0.89090909, 1.        , 0.92727273, 0.        , 1.        ,\n",
       "       1.        , 0.        , 0.05454545, 0.00909091, 0.99090909,\n",
       "       0.        , 0.99090909, 1.        , 0.92727273, 0.51818182,\n",
       "       0.        , 0.10909091, 1.        , 1.        , 0.04545455,\n",
       "       1.        , 0.88181818, 0.        , 0.76363636, 1.        ,\n",
       "       0.        , 0.95454545, 0.        , 1.        , 0.01818182,\n",
       "       1.        , 0.01818182, 0.03636364, 0.00909091, 0.8       ,\n",
       "       0.2       , 0.99090909, 1.        , 0.        , 0.        ,\n",
       "       0.9       , 0.96363636, 0.99090909, 1.        , 1.        ,\n",
       "       1.        , 0.86363636, 1.        , 0.4       , 0.        ,\n",
       "       0.        , 0.        , 0.93636364, 0.        , 1.        ,\n",
       "       0.2       , 1.        , 0.97272727, 0.        , 0.01818182,\n",
       "       1.        , 0.11818182, 0.97272727, 1.        , 0.        ,\n",
       "       0.        , 0.80909091, 0.98181818, 1.        , 0.98181818,\n",
       "       0.09090909, 0.15454545])"
      ]
     },
     "execution_count": 44,
     "metadata": {},
     "output_type": "execute_result"
    }
   ],
   "source": [
    "r1.predict(x_test)"
   ]
  },
  {
   "cell_type": "code",
   "execution_count": null,
   "metadata": {},
   "outputs": [],
   "source": []
  }
 ],
 "metadata": {
  "kernelspec": {
   "display_name": "Python 3",
   "language": "python",
   "name": "python3"
  },
  "language_info": {
   "codemirror_mode": {
    "name": "ipython",
    "version": 3
   },
   "file_extension": ".py",
   "mimetype": "text/x-python",
   "name": "python",
   "nbconvert_exporter": "python",
   "pygments_lexer": "ipython3",
   "version": "3.7.4"
  }
 },
 "nbformat": 4,
 "nbformat_minor": 2
}
